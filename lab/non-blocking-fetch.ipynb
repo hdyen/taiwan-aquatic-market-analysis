{
 "cells": [
  {
   "cell_type": "code",
   "execution_count": 1,
   "metadata": {
    "collapsed": true
   },
   "outputs": [],
   "source": [
    "import socket\n",
    "from urllib.parse import urlparse"
   ]
  },
  {
   "cell_type": "code",
   "execution_count": null,
   "metadata": {},
   "outputs": [],
   "source": [
    "def fetch(url):\n",
    "    sock = socket.socket()\n",
    "    sock.setblocking(False)\n",
    "    url = urlparse(url)\n",
    "    host = url.netloc\n",
    "    port = url.port\n",
    "    if not port:\n",
    "        port = 80\n",
    "    \n",
    "    try:\n",
    "        sock.connect((host, port))\n",
    "    except BlockingIOError:\n",
    "        pass\n",
    "    \n",
    "    request = 'GET {} HTTP/1.0\\r\\nHost: {}\\r\\n\\r\\n'.format(url.geturl(), host)\n",
    "    sock.send(request.encode('ascii'))\n",
    "    \n",
    "    response = b''\n",
    "    chunk = sock.recv(4096)\n",
    "    while chunk:\n",
    "        response += chunk\n",
    "        chunk = sock.recv(4096)\n",
    "    \n",
    "    sock.close()\n",
    "    return response"
   ]
  }
 ],
 "metadata": {
  "kernelspec": {
   "display_name": "Python 3",
   "language": "python",
   "name": "python3"
  },
  "language_info": {
   "codemirror_mode": {
    "name": "ipython",
    "version": 3
   },
   "file_extension": ".py",
   "mimetype": "text/x-python",
   "name": "python",
   "nbconvert_exporter": "python",
   "pygments_lexer": "ipython3",
   "version": "3.6.4"
  }
 },
 "nbformat": 4,
 "nbformat_minor": 2
}
